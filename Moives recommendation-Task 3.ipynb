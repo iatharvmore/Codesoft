{
 "cells": [
  {
   "cell_type": "code",
   "execution_count": null,
   "id": "e129670e",
   "metadata": {},
   "outputs": [],
   "source": [
    "pip install scikit-surprise\n"
   ]
  },
  {
   "cell_type": "code",
   "execution_count": 3,
   "id": "34682319",
   "metadata": {},
   "outputs": [
    {
     "ename": "ModuleNotFoundError",
     "evalue": "No module named 'surprise'",
     "output_type": "error",
     "traceback": [
      "\u001b[1;31m---------------------------------------------------------------------------\u001b[0m",
      "\u001b[1;31mModuleNotFoundError\u001b[0m                       Traceback (most recent call last)",
      "\u001b[1;32m~\\AppData\\Local\\Temp\\ipykernel_21004\\3401165732.py\u001b[0m in \u001b[0;36m<module>\u001b[1;34m\u001b[0m\n\u001b[1;32m----> 1\u001b[1;33m \u001b[1;32mfrom\u001b[0m \u001b[0msurprise\u001b[0m \u001b[1;32mimport\u001b[0m \u001b[0mDataset\u001b[0m\u001b[1;33m,\u001b[0m \u001b[0mReader\u001b[0m\u001b[1;33m,\u001b[0m \u001b[0mKNNBasic\u001b[0m\u001b[1;33m\u001b[0m\u001b[1;33m\u001b[0m\u001b[0m\n\u001b[0m\u001b[0;32m      2\u001b[0m \u001b[1;32mfrom\u001b[0m \u001b[0msurprise\u001b[0m\u001b[1;33m.\u001b[0m\u001b[0mmodel_selection\u001b[0m \u001b[1;32mimport\u001b[0m \u001b[0mtrain_test_split\u001b[0m\u001b[1;33m\u001b[0m\u001b[1;33m\u001b[0m\u001b[0m\n\u001b[0;32m      3\u001b[0m \u001b[1;32mfrom\u001b[0m \u001b[0msurprise\u001b[0m \u001b[1;32mimport\u001b[0m \u001b[0maccuracy\u001b[0m\u001b[1;33m\u001b[0m\u001b[1;33m\u001b[0m\u001b[0m\n\u001b[0;32m      4\u001b[0m \u001b[1;33m\u001b[0m\u001b[0m\n\u001b[0;32m      5\u001b[0m \u001b[1;31m# Load the MovieLens dataset (you can replace this with your own dataset)\u001b[0m\u001b[1;33m\u001b[0m\u001b[1;33m\u001b[0m\u001b[1;33m\u001b[0m\u001b[0m\n",
      "\u001b[1;31mModuleNotFoundError\u001b[0m: No module named 'surprise'"
     ]
    }
   ],
   "source": [
    "from surprise import Dataset, Reader, KNNBasic\n",
    "from surprise.model_selection import train_test_split\n",
    "from surprise import accuracy\n",
    "\n",
    "# Load the MovieLens dataset (you can replace this with your own dataset)\n",
    "reader = Reader(line_format='user item rating timestamp', sep=',', rating_scale=(1, 5))\n",
    "data = Dataset.load_from_file('moives.csv', reader=reader)\n",
    "\n",
    "# Define the similarity measure and algorithm (User-based Collaborative Filtering)\n",
    "sim_options = {'name': 'cosine', 'user_based': True}\n",
    "knn_algorithm = KNNBasic(sim_options=sim_options)\n",
    "\n",
    "# Split the data into training and testing sets\n",
    "trainset, testset = train_test_split(data, test_size=0.25, random_state=42)\n",
    "\n",
    "# Train the model\n",
    "knn_algorithm.fit(trainset)\n",
    "\n",
    "# Make predictions on the test set\n",
    "predictions = knn_algorithm.test(testset)\n",
    "\n",
    "# Evaluate the model\n",
    "accuracy.rmse(predictions)\n",
    "\n",
    "# Function to get movie recommendations for a user\n",
    "def get_recommendations(user_id, n=5):\n",
    "    # Get a list of all movie IDs\n",
    "    all_movie_ids = list(trainset.all_items())\n",
    "\n",
    "    # Remove movies the user has already seen\n",
    "    movies_seen_by_user = [item[0] for item in trainset.ur[user_id]]\n",
    "    movies_to_predict = [movie_id for movie_id in all_movie_ids if movie_id not in movies_seen_by_user]\n",
    "\n",
    "    # Predict ratings for the unseen movies\n",
    "    predicted_ratings = [knn_algorithm.predict(user_id, movie_id).est for movie_id in movies_to_predict]\n",
    "\n",
    "    # Get the indices of the top-n highest predicted ratings\n",
    "    top_indices = sorted(range(len(predicted_ratings)), key=lambda i: predicted_ratings[i], reverse=True)[:n]\n",
    "\n",
    "    # Get the movie IDs corresponding to the top indices\n",
    "    top_movie_ids = [movies_to_predict[i] for i in top_indices]\n",
    "\n",
    "    return top_movie_ids\n",
    "\n",
    "# Example: Get recommendations for user with ID 1\n",
    "user_id_to_recommend = 1\n",
    "recommendations = get_recommendations(user_id_to_recommend)\n",
    "\n",
    "# Print the recommended movie IDs\n",
    "print(f\"Top 5 Recommendations for User {user_id_to_recommend}: {recommendations}\")\n"
   ]
  },
  {
   "cell_type": "code",
   "execution_count": null,
   "id": "26b930ad",
   "metadata": {},
   "outputs": [],
   "source": []
  }
 ],
 "metadata": {
  "kernelspec": {
   "display_name": "Python 3 (ipykernel)",
   "language": "python",
   "name": "python3"
  },
  "language_info": {
   "codemirror_mode": {
    "name": "ipython",
    "version": 3
   },
   "file_extension": ".py",
   "mimetype": "text/x-python",
   "name": "python",
   "nbconvert_exporter": "python",
   "pygments_lexer": "ipython3",
   "version": "3.7.6"
  }
 },
 "nbformat": 4,
 "nbformat_minor": 5
}
